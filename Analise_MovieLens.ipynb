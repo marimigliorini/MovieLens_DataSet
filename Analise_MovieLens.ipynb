{
  "nbformat": 4,
  "nbformat_minor": 0,
  "metadata": {
    "colab": {
      "name": "Analise_MovieLens.ipynb",
      "provenance": [],
      "authorship_tag": "ABX9TyMA/qEkK/XlIus/MgD5JiQi"
    },
    "kernelspec": {
      "name": "python3",
      "display_name": "Python 3"
    }
  },
  "cells": [
    {
      "cell_type": "markdown",
      "metadata": {
        "id": "77OxIPhRQrzt",
        "colab_type": "text"
      },
      "source": [
        "# Movie Lens DataSet"
      ]
    },
    {
      "cell_type": "code",
      "metadata": {
        "id": "Semw80d3Pmjs",
        "colab_type": "code",
        "outputId": "9b350e64-1232-4672-8fa9-98fb06fba300",
        "colab": {
          "base_uri": "https://localhost:8080/",
          "height": 74
        }
      },
      "source": [
        "import pandas as pd\n",
        "import matplotlib.pyplot as plt\n",
        "import numpy as np\n",
        "import seaborn as sns\n",
        "\n",
        "%matplotlib inline\n",
        "sns.set_style(\"whitegrid\")\n",
        "\n",
        "#plt.style.use('seaborn')"
      ],
      "execution_count": 1,
      "outputs": [
        {
          "output_type": "stream",
          "text": [
            "/usr/local/lib/python3.6/dist-packages/statsmodels/tools/_testing.py:19: FutureWarning: pandas.util.testing is deprecated. Use the functions in the public API at pandas.testing instead.\n",
            "  import pandas.util.testing as tm\n"
          ],
          "name": "stderr"
        }
      ]
    },
    {
      "cell_type": "markdown",
      "metadata": {
        "id": "TA0QMpy8Q9cf",
        "colab_type": "text"
      },
      "source": [
        "Load do database contendo os títulos dos filmes, bem como seus respectivos ID's, ano de lançamento e gêneros."
      ]
    },
    {
      "cell_type": "code",
      "metadata": {
        "id": "NdfgKlg-P9Ad",
        "colab_type": "code",
        "outputId": "7cf6fdea-3d8f-46b0-d32c-37c25e3f2204",
        "colab": {
          "base_uri": "https://localhost:8080/",
          "height": 206
        }
      },
      "source": [
        "filmes = pd.read_csv(\"https://raw.githubusercontent.com/alura-cursos/introducao-a-data-science/master/aula0/ml-latest-small/movies.csv\")\n",
        "filmes.columns = [\"filmeId\", \"titulo\", \"generos\"]\n",
        "filmes.head()"
      ],
      "execution_count": 2,
      "outputs": [
        {
          "output_type": "execute_result",
          "data": {
            "text/html": [
              "<div>\n",
              "<style scoped>\n",
              "    .dataframe tbody tr th:only-of-type {\n",
              "        vertical-align: middle;\n",
              "    }\n",
              "\n",
              "    .dataframe tbody tr th {\n",
              "        vertical-align: top;\n",
              "    }\n",
              "\n",
              "    .dataframe thead th {\n",
              "        text-align: right;\n",
              "    }\n",
              "</style>\n",
              "<table border=\"1\" class=\"dataframe\">\n",
              "  <thead>\n",
              "    <tr style=\"text-align: right;\">\n",
              "      <th></th>\n",
              "      <th>filmeId</th>\n",
              "      <th>titulo</th>\n",
              "      <th>generos</th>\n",
              "    </tr>\n",
              "  </thead>\n",
              "  <tbody>\n",
              "    <tr>\n",
              "      <th>0</th>\n",
              "      <td>1</td>\n",
              "      <td>Toy Story (1995)</td>\n",
              "      <td>Adventure|Animation|Children|Comedy|Fantasy</td>\n",
              "    </tr>\n",
              "    <tr>\n",
              "      <th>1</th>\n",
              "      <td>2</td>\n",
              "      <td>Jumanji (1995)</td>\n",
              "      <td>Adventure|Children|Fantasy</td>\n",
              "    </tr>\n",
              "    <tr>\n",
              "      <th>2</th>\n",
              "      <td>3</td>\n",
              "      <td>Grumpier Old Men (1995)</td>\n",
              "      <td>Comedy|Romance</td>\n",
              "    </tr>\n",
              "    <tr>\n",
              "      <th>3</th>\n",
              "      <td>4</td>\n",
              "      <td>Waiting to Exhale (1995)</td>\n",
              "      <td>Comedy|Drama|Romance</td>\n",
              "    </tr>\n",
              "    <tr>\n",
              "      <th>4</th>\n",
              "      <td>5</td>\n",
              "      <td>Father of the Bride Part II (1995)</td>\n",
              "      <td>Comedy</td>\n",
              "    </tr>\n",
              "  </tbody>\n",
              "</table>\n",
              "</div>"
            ],
            "text/plain": [
              "   filmeId  ...                                      generos\n",
              "0        1  ...  Adventure|Animation|Children|Comedy|Fantasy\n",
              "1        2  ...                   Adventure|Children|Fantasy\n",
              "2        3  ...                               Comedy|Romance\n",
              "3        4  ...                         Comedy|Drama|Romance\n",
              "4        5  ...                                       Comedy\n",
              "\n",
              "[5 rows x 3 columns]"
            ]
          },
          "metadata": {
            "tags": []
          },
          "execution_count": 2
        }
      ]
    },
    {
      "cell_type": "code",
      "metadata": {
        "id": "5NTbF9QTRjZX",
        "colab_type": "code",
        "outputId": "931d825f-154b-4871-86d1-801dcd3558dd",
        "colab": {
          "base_uri": "https://localhost:8080/",
          "height": 35
        }
      },
      "source": [
        "filmes.shape"
      ],
      "execution_count": 3,
      "outputs": [
        {
          "output_type": "execute_result",
          "data": {
            "text/plain": [
              "(9742, 3)"
            ]
          },
          "metadata": {
            "tags": []
          },
          "execution_count": 3
        }
      ]
    },
    {
      "cell_type": "code",
      "metadata": {
        "id": "ThyNaC8z1OUp",
        "colab_type": "code",
        "outputId": "7654c2bb-cef9-4a1c-c328-e673931e0e04",
        "colab": {
          "base_uri": "https://localhost:8080/",
          "height": 201
        }
      },
      "source": [
        "filmes.info()"
      ],
      "execution_count": 4,
      "outputs": [
        {
          "output_type": "stream",
          "text": [
            "<class 'pandas.core.frame.DataFrame'>\n",
            "RangeIndex: 9742 entries, 0 to 9741\n",
            "Data columns (total 3 columns):\n",
            " #   Column   Non-Null Count  Dtype \n",
            "---  ------   --------------  ----- \n",
            " 0   filmeId  9742 non-null   int64 \n",
            " 1   titulo   9742 non-null   object\n",
            " 2   generos  9742 non-null   object\n",
            "dtypes: int64(1), object(2)\n",
            "memory usage: 228.5+ KB\n"
          ],
          "name": "stdout"
        }
      ]
    },
    {
      "cell_type": "markdown",
      "metadata": {
        "id": "PuHPcfIKRWBO",
        "colab_type": "text"
      },
      "source": [
        "O database de filmes não possi dados faltantes.\n",
        "\n",
        "Load do database contendo as avaliações de cada filme."
      ]
    },
    {
      "cell_type": "code",
      "metadata": {
        "id": "JMxwWns1QK3q",
        "colab_type": "code",
        "outputId": "ec3bcfb1-a9e3-4f65-b98d-82e2043ef08b",
        "colab": {
          "base_uri": "https://localhost:8080/",
          "height": 206
        }
      },
      "source": [
        "avaliacoes = pd.read_csv(\"https://github.com/alura-cursos/introducao-a-data-science/blob/master/aula0/ml-latest-small/ratings.csv?raw=true\")\n",
        "avaliacoes.columns = [\"usuarioId\", \"filmeId\", \"nota\", \"momento\"]\n",
        "avaliacoes.head()"
      ],
      "execution_count": 5,
      "outputs": [
        {
          "output_type": "execute_result",
          "data": {
            "text/html": [
              "<div>\n",
              "<style scoped>\n",
              "    .dataframe tbody tr th:only-of-type {\n",
              "        vertical-align: middle;\n",
              "    }\n",
              "\n",
              "    .dataframe tbody tr th {\n",
              "        vertical-align: top;\n",
              "    }\n",
              "\n",
              "    .dataframe thead th {\n",
              "        text-align: right;\n",
              "    }\n",
              "</style>\n",
              "<table border=\"1\" class=\"dataframe\">\n",
              "  <thead>\n",
              "    <tr style=\"text-align: right;\">\n",
              "      <th></th>\n",
              "      <th>usuarioId</th>\n",
              "      <th>filmeId</th>\n",
              "      <th>nota</th>\n",
              "      <th>momento</th>\n",
              "    </tr>\n",
              "  </thead>\n",
              "  <tbody>\n",
              "    <tr>\n",
              "      <th>0</th>\n",
              "      <td>1</td>\n",
              "      <td>1</td>\n",
              "      <td>4.0</td>\n",
              "      <td>964982703</td>\n",
              "    </tr>\n",
              "    <tr>\n",
              "      <th>1</th>\n",
              "      <td>1</td>\n",
              "      <td>3</td>\n",
              "      <td>4.0</td>\n",
              "      <td>964981247</td>\n",
              "    </tr>\n",
              "    <tr>\n",
              "      <th>2</th>\n",
              "      <td>1</td>\n",
              "      <td>6</td>\n",
              "      <td>4.0</td>\n",
              "      <td>964982224</td>\n",
              "    </tr>\n",
              "    <tr>\n",
              "      <th>3</th>\n",
              "      <td>1</td>\n",
              "      <td>47</td>\n",
              "      <td>5.0</td>\n",
              "      <td>964983815</td>\n",
              "    </tr>\n",
              "    <tr>\n",
              "      <th>4</th>\n",
              "      <td>1</td>\n",
              "      <td>50</td>\n",
              "      <td>5.0</td>\n",
              "      <td>964982931</td>\n",
              "    </tr>\n",
              "  </tbody>\n",
              "</table>\n",
              "</div>"
            ],
            "text/plain": [
              "   usuarioId  filmeId  nota    momento\n",
              "0          1        1   4.0  964982703\n",
              "1          1        3   4.0  964981247\n",
              "2          1        6   4.0  964982224\n",
              "3          1       47   5.0  964983815\n",
              "4          1       50   5.0  964982931"
            ]
          },
          "metadata": {
            "tags": []
          },
          "execution_count": 5
        }
      ]
    },
    {
      "cell_type": "code",
      "metadata": {
        "id": "lxFg-9ISwcK0",
        "colab_type": "code",
        "outputId": "6dfd88e7-0e32-41e3-ebe8-2daa5e1cb00e",
        "colab": {
          "base_uri": "https://localhost:8080/",
          "height": 237
        }
      },
      "source": [
        "pd.to_datetime(avaliacoes['momento'], unit='s')"
      ],
      "execution_count": 6,
      "outputs": [
        {
          "output_type": "execute_result",
          "data": {
            "text/plain": [
              "0        2000-07-30 18:45:03\n",
              "1        2000-07-30 18:20:47\n",
              "2        2000-07-30 18:37:04\n",
              "3        2000-07-30 19:03:35\n",
              "4        2000-07-30 18:48:51\n",
              "                 ...        \n",
              "100831   2017-05-03 21:53:22\n",
              "100832   2017-05-03 22:21:31\n",
              "100833   2017-05-08 19:50:47\n",
              "100834   2017-05-03 21:19:12\n",
              "100835   2017-05-03 21:20:15\n",
              "Name: momento, Length: 100836, dtype: datetime64[ns]"
            ]
          },
          "metadata": {
            "tags": []
          },
          "execution_count": 6
        }
      ]
    },
    {
      "cell_type": "code",
      "metadata": {
        "id": "C_90ba81QVJL",
        "colab_type": "code",
        "outputId": "2fe98a58-a7a0-428d-aa6f-c0bc148ee8d5",
        "colab": {
          "base_uri": "https://localhost:8080/",
          "height": 35
        }
      },
      "source": [
        "avaliacoes.shape"
      ],
      "execution_count": 7,
      "outputs": [
        {
          "output_type": "execute_result",
          "data": {
            "text/plain": [
              "(100836, 4)"
            ]
          },
          "metadata": {
            "tags": []
          },
          "execution_count": 7
        }
      ]
    },
    {
      "cell_type": "code",
      "metadata": {
        "id": "JOkP3VReRpR_",
        "colab_type": "code",
        "outputId": "e046f60c-95a0-4516-ba87-faf16c3f1ad2",
        "colab": {
          "base_uri": "https://localhost:8080/",
          "height": 109
        }
      },
      "source": [
        "avaliacoes.nunique()"
      ],
      "execution_count": 8,
      "outputs": [
        {
          "output_type": "execute_result",
          "data": {
            "text/plain": [
              "usuarioId      610\n",
              "filmeId       9724\n",
              "nota            10\n",
              "momento      85043\n",
              "dtype: int64"
            ]
          },
          "metadata": {
            "tags": []
          },
          "execution_count": 8
        }
      ]
    },
    {
      "cell_type": "code",
      "metadata": {
        "id": "Y1ZrVyml_gmR",
        "colab_type": "code",
        "outputId": "7bb05a01-e4a5-4a06-d091-7faac303b4e9",
        "colab": {
          "base_uri": "https://localhost:8080/",
          "height": 35
        }
      },
      "source": [
        "np.sort(avaliacoes['nota'].unique())"
      ],
      "execution_count": 9,
      "outputs": [
        {
          "output_type": "execute_result",
          "data": {
            "text/plain": [
              "array([0.5, 1. , 1.5, 2. , 2.5, 3. , 3.5, 4. , 4.5, 5. ])"
            ]
          },
          "metadata": {
            "tags": []
          },
          "execution_count": 9
        }
      ]
    },
    {
      "cell_type": "code",
      "metadata": {
        "id": "GvlS7gChRxnD",
        "colab_type": "code",
        "outputId": "98ad9684-62cb-4c8b-e7d9-8bad3fc23a70",
        "colab": {
          "base_uri": "https://localhost:8080/",
          "height": 219
        }
      },
      "source": [
        "avaliacoes.info()"
      ],
      "execution_count": 10,
      "outputs": [
        {
          "output_type": "stream",
          "text": [
            "<class 'pandas.core.frame.DataFrame'>\n",
            "RangeIndex: 100836 entries, 0 to 100835\n",
            "Data columns (total 4 columns):\n",
            " #   Column     Non-Null Count   Dtype  \n",
            "---  ------     --------------   -----  \n",
            " 0   usuarioId  100836 non-null  int64  \n",
            " 1   filmeId    100836 non-null  int64  \n",
            " 2   nota       100836 non-null  float64\n",
            " 3   momento    100836 non-null  int64  \n",
            "dtypes: float64(1), int64(3)\n",
            "memory usage: 3.1 MB\n"
          ],
          "name": "stdout"
        }
      ]
    },
    {
      "cell_type": "markdown",
      "metadata": {
        "id": "YEVhw7tFSwJt",
        "colab_type": "text"
      },
      "source": [
        "O database de avaliações também não possui dados faltantes e contém 610 usuários únicos que avaliaram 9724 filmes diferentes. As notas variam de 0,5 a 5. \n",
        "\n",
        "## Nota média de cada filme\n",
        "\n",
        "Criando uma coluna no dataframe \"filmes\" contendo as notas médias com duas casas decimais para cada filme e renomeando a mesma para \"nota_media\"."
      ]
    },
    {
      "cell_type": "code",
      "metadata": {
        "id": "-FEr-_wXTXRB",
        "colab_type": "code",
        "outputId": "3fad46c1-3a9f-4e9c-f89f-2938d0bfc0fa",
        "colab": {
          "base_uri": "https://localhost:8080/",
          "height": 206
        }
      },
      "source": [
        "filmes = filmes.join(avaliacoes.groupby(['filmeId'])[\"nota\"].mean().round(2), on='filmeId')\n",
        "filmes.rename(columns={'nota': 'nota_media'}, inplace = True)\n",
        "filmes.head()"
      ],
      "execution_count": 11,
      "outputs": [
        {
          "output_type": "execute_result",
          "data": {
            "text/html": [
              "<div>\n",
              "<style scoped>\n",
              "    .dataframe tbody tr th:only-of-type {\n",
              "        vertical-align: middle;\n",
              "    }\n",
              "\n",
              "    .dataframe tbody tr th {\n",
              "        vertical-align: top;\n",
              "    }\n",
              "\n",
              "    .dataframe thead th {\n",
              "        text-align: right;\n",
              "    }\n",
              "</style>\n",
              "<table border=\"1\" class=\"dataframe\">\n",
              "  <thead>\n",
              "    <tr style=\"text-align: right;\">\n",
              "      <th></th>\n",
              "      <th>filmeId</th>\n",
              "      <th>titulo</th>\n",
              "      <th>generos</th>\n",
              "      <th>nota_media</th>\n",
              "    </tr>\n",
              "  </thead>\n",
              "  <tbody>\n",
              "    <tr>\n",
              "      <th>0</th>\n",
              "      <td>1</td>\n",
              "      <td>Toy Story (1995)</td>\n",
              "      <td>Adventure|Animation|Children|Comedy|Fantasy</td>\n",
              "      <td>3.92</td>\n",
              "    </tr>\n",
              "    <tr>\n",
              "      <th>1</th>\n",
              "      <td>2</td>\n",
              "      <td>Jumanji (1995)</td>\n",
              "      <td>Adventure|Children|Fantasy</td>\n",
              "      <td>3.43</td>\n",
              "    </tr>\n",
              "    <tr>\n",
              "      <th>2</th>\n",
              "      <td>3</td>\n",
              "      <td>Grumpier Old Men (1995)</td>\n",
              "      <td>Comedy|Romance</td>\n",
              "      <td>3.26</td>\n",
              "    </tr>\n",
              "    <tr>\n",
              "      <th>3</th>\n",
              "      <td>4</td>\n",
              "      <td>Waiting to Exhale (1995)</td>\n",
              "      <td>Comedy|Drama|Romance</td>\n",
              "      <td>2.36</td>\n",
              "    </tr>\n",
              "    <tr>\n",
              "      <th>4</th>\n",
              "      <td>5</td>\n",
              "      <td>Father of the Bride Part II (1995)</td>\n",
              "      <td>Comedy</td>\n",
              "      <td>3.07</td>\n",
              "    </tr>\n",
              "  </tbody>\n",
              "</table>\n",
              "</div>"
            ],
            "text/plain": [
              "   filmeId  ... nota_media\n",
              "0        1  ...       3.92\n",
              "1        2  ...       3.43\n",
              "2        3  ...       3.26\n",
              "3        4  ...       2.36\n",
              "4        5  ...       3.07\n",
              "\n",
              "[5 rows x 4 columns]"
            ]
          },
          "metadata": {
            "tags": []
          },
          "execution_count": 11
        }
      ]
    },
    {
      "cell_type": "code",
      "metadata": {
        "id": "SNaVqGJAVEm7",
        "colab_type": "code",
        "outputId": "4e260ab3-5143-41a7-bd93-4c209c0d0f90",
        "colab": {
          "base_uri": "https://localhost:8080/",
          "height": 219
        }
      },
      "source": [
        "filmes.info()"
      ],
      "execution_count": 12,
      "outputs": [
        {
          "output_type": "stream",
          "text": [
            "<class 'pandas.core.frame.DataFrame'>\n",
            "RangeIndex: 9742 entries, 0 to 9741\n",
            "Data columns (total 4 columns):\n",
            " #   Column      Non-Null Count  Dtype  \n",
            "---  ------      --------------  -----  \n",
            " 0   filmeId     9742 non-null   int64  \n",
            " 1   titulo      9742 non-null   object \n",
            " 2   generos     9742 non-null   object \n",
            " 3   nota_media  9724 non-null   float64\n",
            "dtypes: float64(1), int64(1), object(2)\n",
            "memory usage: 304.6+ KB\n"
          ],
          "name": "stdout"
        }
      ]
    },
    {
      "cell_type": "code",
      "metadata": {
        "id": "CauwGZxqVVy2",
        "colab_type": "code",
        "outputId": "bebe0966-1398-4361-f06d-fcf25adb8c7e",
        "colab": {
          "base_uri": "https://localhost:8080/",
          "height": 109
        }
      },
      "source": [
        "filmes.isna().sum()"
      ],
      "execution_count": 13,
      "outputs": [
        {
          "output_type": "execute_result",
          "data": {
            "text/plain": [
              "filmeId        0\n",
              "titulo         0\n",
              "generos        0\n",
              "nota_media    18\n",
              "dtype: int64"
            ]
          },
          "metadata": {
            "tags": []
          },
          "execution_count": 13
        }
      ]
    },
    {
      "cell_type": "markdown",
      "metadata": {
        "id": "omOdUMAEWKW_",
        "colab_type": "text"
      },
      "source": [
        "Observa-se que há 18 filmes sem avaliações nesse dataset. \n",
        "\n",
        "São eles:\n",
        "\n"
      ]
    },
    {
      "cell_type": "code",
      "metadata": {
        "id": "_hDu0rccWHPg",
        "colab_type": "code",
        "outputId": "e68a3915-488a-4227-e358-73e1b61c608c",
        "colab": {
          "base_uri": "https://localhost:8080/",
          "height": 366
        }
      },
      "source": [
        "filmes['titulo'][filmes['nota_media'].isna()]"
      ],
      "execution_count": 14,
      "outputs": [
        {
          "output_type": "execute_result",
          "data": {
            "text/plain": [
              "816                            Innocents, The (1961)\n",
              "2211                                  Niagara (1953)\n",
              "2499                          For All Mankind (1989)\n",
              "2587    Color of Paradise, The (Rang-e khoda) (1999)\n",
              "3118                  I Know Where I'm Going! (1945)\n",
              "4037                              Chosen, The (1981)\n",
              "4506     Road Home, The (Wo de fu qin mu qin) (1999)\n",
              "4598                                  Scrooge (1970)\n",
              "4704                                    Proof (1991)\n",
              "5020                       Parallax View, The (1974)\n",
              "5293                        This Gun for Hire (1942)\n",
              "5421                    Roaring Twenties, The (1939)\n",
              "5452                     Mutiny on the Bounty (1962)\n",
              "5749              In the Realms of the Unreal (2004)\n",
              "5824                        Twentieth Century (1934)\n",
              "5837                       Call Northside 777 (1948)\n",
              "5957                    Browning Version, The (1951)\n",
              "7565                              Chalet Girl (2011)\n",
              "Name: titulo, dtype: object"
            ]
          },
          "metadata": {
            "tags": []
          },
          "execution_count": 14
        }
      ]
    },
    {
      "cell_type": "markdown",
      "metadata": {
        "id": "afBQTbhfZO4X",
        "colab_type": "text"
      },
      "source": [
        "## Total de avaliações por filme\n",
        "\n",
        "Criando uma coluna no dataframe \"filmes\" contendo o número de avaliações de cada filme e renomeando a mesma para \"n_avaliacoes\"."
      ]
    },
    {
      "cell_type": "code",
      "metadata": {
        "id": "pj_ei0_uZVZK",
        "colab_type": "code",
        "outputId": "289fb992-03cb-468a-e3ab-e4e2cc0ebf12",
        "colab": {
          "base_uri": "https://localhost:8080/",
          "height": 206
        }
      },
      "source": [
        "filmes = filmes.join(avaliacoes.groupby(['filmeId'])['nota'].count(), on='filmeId')\n",
        "filmes.rename(columns={'nota': 'n_avaliacoes'}, inplace = True)\n",
        "filmes.head()"
      ],
      "execution_count": 15,
      "outputs": [
        {
          "output_type": "execute_result",
          "data": {
            "text/html": [
              "<div>\n",
              "<style scoped>\n",
              "    .dataframe tbody tr th:only-of-type {\n",
              "        vertical-align: middle;\n",
              "    }\n",
              "\n",
              "    .dataframe tbody tr th {\n",
              "        vertical-align: top;\n",
              "    }\n",
              "\n",
              "    .dataframe thead th {\n",
              "        text-align: right;\n",
              "    }\n",
              "</style>\n",
              "<table border=\"1\" class=\"dataframe\">\n",
              "  <thead>\n",
              "    <tr style=\"text-align: right;\">\n",
              "      <th></th>\n",
              "      <th>filmeId</th>\n",
              "      <th>titulo</th>\n",
              "      <th>generos</th>\n",
              "      <th>nota_media</th>\n",
              "      <th>n_avaliacoes</th>\n",
              "    </tr>\n",
              "  </thead>\n",
              "  <tbody>\n",
              "    <tr>\n",
              "      <th>0</th>\n",
              "      <td>1</td>\n",
              "      <td>Toy Story (1995)</td>\n",
              "      <td>Adventure|Animation|Children|Comedy|Fantasy</td>\n",
              "      <td>3.92</td>\n",
              "      <td>215.0</td>\n",
              "    </tr>\n",
              "    <tr>\n",
              "      <th>1</th>\n",
              "      <td>2</td>\n",
              "      <td>Jumanji (1995)</td>\n",
              "      <td>Adventure|Children|Fantasy</td>\n",
              "      <td>3.43</td>\n",
              "      <td>110.0</td>\n",
              "    </tr>\n",
              "    <tr>\n",
              "      <th>2</th>\n",
              "      <td>3</td>\n",
              "      <td>Grumpier Old Men (1995)</td>\n",
              "      <td>Comedy|Romance</td>\n",
              "      <td>3.26</td>\n",
              "      <td>52.0</td>\n",
              "    </tr>\n",
              "    <tr>\n",
              "      <th>3</th>\n",
              "      <td>4</td>\n",
              "      <td>Waiting to Exhale (1995)</td>\n",
              "      <td>Comedy|Drama|Romance</td>\n",
              "      <td>2.36</td>\n",
              "      <td>7.0</td>\n",
              "    </tr>\n",
              "    <tr>\n",
              "      <th>4</th>\n",
              "      <td>5</td>\n",
              "      <td>Father of the Bride Part II (1995)</td>\n",
              "      <td>Comedy</td>\n",
              "      <td>3.07</td>\n",
              "      <td>49.0</td>\n",
              "    </tr>\n",
              "  </tbody>\n",
              "</table>\n",
              "</div>"
            ],
            "text/plain": [
              "   filmeId                              titulo  ... nota_media  n_avaliacoes\n",
              "0        1                    Toy Story (1995)  ...       3.92         215.0\n",
              "1        2                      Jumanji (1995)  ...       3.43         110.0\n",
              "2        3             Grumpier Old Men (1995)  ...       3.26          52.0\n",
              "3        4            Waiting to Exhale (1995)  ...       2.36           7.0\n",
              "4        5  Father of the Bride Part II (1995)  ...       3.07          49.0\n",
              "\n",
              "[5 rows x 5 columns]"
            ]
          },
          "metadata": {
            "tags": []
          },
          "execution_count": 15
        }
      ]
    },
    {
      "cell_type": "code",
      "metadata": {
        "id": "bfDuasehDdxM",
        "colab_type": "code",
        "outputId": "33358042-33cb-4464-d4b4-3b2e89c61776",
        "colab": {
          "base_uri": "https://localhost:8080/",
          "height": 237
        }
      },
      "source": [
        "filmes.info()"
      ],
      "execution_count": 16,
      "outputs": [
        {
          "output_type": "stream",
          "text": [
            "<class 'pandas.core.frame.DataFrame'>\n",
            "RangeIndex: 9742 entries, 0 to 9741\n",
            "Data columns (total 5 columns):\n",
            " #   Column        Non-Null Count  Dtype  \n",
            "---  ------        --------------  -----  \n",
            " 0   filmeId       9742 non-null   int64  \n",
            " 1   titulo        9742 non-null   object \n",
            " 2   generos       9742 non-null   object \n",
            " 3   nota_media    9724 non-null   float64\n",
            " 4   n_avaliacoes  9724 non-null   float64\n",
            "dtypes: float64(2), int64(1), object(2)\n",
            "memory usage: 380.7+ KB\n"
          ],
          "name": "stdout"
        }
      ]
    },
    {
      "cell_type": "markdown",
      "metadata": {
        "id": "n2WsIZfHfGTN",
        "colab_type": "text"
      },
      "source": [
        "## Gêneros únicos\n",
        "\n",
        "Gêneros dos filmes e seu respectivo número de aparições:"
      ]
    },
    {
      "cell_type": "code",
      "metadata": {
        "id": "o8JPVBA7TYan",
        "colab_type": "code",
        "outputId": "330c56cc-99c4-41e4-f4e5-92bfa4faf095",
        "colab": {
          "base_uri": "https://localhost:8080/",
          "height": 403
        }
      },
      "source": [
        "filmes['generos'].str.get_dummies('|').sum()"
      ],
      "execution_count": 17,
      "outputs": [
        {
          "output_type": "execute_result",
          "data": {
            "text/plain": [
              "(no genres listed)      34\n",
              "Action                1828\n",
              "Adventure             1263\n",
              "Animation              611\n",
              "Children               664\n",
              "Comedy                3756\n",
              "Crime                 1199\n",
              "Documentary            440\n",
              "Drama                 4361\n",
              "Fantasy                779\n",
              "Film-Noir               87\n",
              "Horror                 978\n",
              "IMAX                   158\n",
              "Musical                334\n",
              "Mystery                573\n",
              "Romance               1596\n",
              "Sci-Fi                 980\n",
              "Thriller              1894\n",
              "War                    382\n",
              "Western                167\n",
              "dtype: int64"
            ]
          },
          "metadata": {
            "tags": []
          },
          "execution_count": 17
        }
      ]
    },
    {
      "cell_type": "markdown",
      "metadata": {
        "id": "nTEoGlegE85G",
        "colab_type": "text"
      },
      "source": [
        "Visualização do resultado anterior:"
      ]
    },
    {
      "cell_type": "code",
      "metadata": {
        "id": "LEbUNf_Rjarw",
        "colab_type": "code",
        "outputId": "824d82fe-243c-4588-b8d4-efcc6fc1491f",
        "colab": {
          "base_uri": "https://localhost:8080/",
          "height": 376
        }
      },
      "source": [
        "plt.figure(figsize=(16,5))\n",
        "sns.barplot(x = filmes['generos'].str.get_dummies('|').sum().sort_values(ascending=False).index,\n",
        "            y = filmes['generos'].str.get_dummies('|').sum().sort_values(ascending=False).values,\n",
        "            palette=sns.color_palette(\"GnBu_d\", n_colors=len(filmes['generos'].str.get_dummies('|').sum().sort_values(ascending=False)) + 5))\n",
        "\n",
        "plt.xticks(rotation=30)\n",
        "plt.ylabel('Frequência')\n",
        "plt.xlabel('Gêneros')\n",
        "plt.show()"
      ],
      "execution_count": 18,
      "outputs": [
        {
          "output_type": "display_data",
          "data": {
            "image/png": "[encoded data removed]",
            "text/plain": [
              "<Figure size 1152x360 with 1 Axes>"
            ]
          },
          "metadata": {
            "tags": [],
            "needs_background": "light"
          }
        }
      ]
    },
    {
      "cell_type": "markdown",
      "metadata": {
        "id": "IcrKrRQXu6da",
        "colab_type": "text"
      },
      "source": [
        "## Comparação da distribuição de alguns filmes com notas médias semelhantes"
      ]
    },
    {
      "cell_type": "code",
      "metadata": {
        "id": "DYSirnKm29lj",
        "colab_type": "code",
        "colab": {}
      },
      "source": [
        "from pandas.plotting import table\n",
        "def plot_filme(f_id):\n",
        "    for i in f_id:\n",
        "        plt.figure(figsize=(15,4))        \n",
        "        ax1 = plt.subplot(1,3,1)\n",
        "        plt.axis('off')\n",
        "        table(ax1, avaliacoes['nota'][avaliacoes['filmeId']==i].describe().round(3),loc='center')\n",
        "        plt.subplot(1,3,2)\n",
        "        plt.title(filmes['titulo'][filmes['filmeId']==i].all())\n",
        "        avaliacoes['nota'][avaliacoes['filmeId']==i].plot(kind='hist')\n",
        "        plt.subplot(1,3,3)\n",
        "        avaliacoes['nota'][avaliacoes['filmeId']==i].plot.box()\n",
        "        plt.show()\n",
        "    return "
      ],
      "execution_count": 0,
      "outputs": []
    },
    {
      "cell_type": "code",
      "metadata": {
        "id": "0RdqGs8R6n59",
        "colab_type": "code",
        "outputId": "a387f098-a3e0-498b-e399-40a619ebcd92",
        "colab": {
          "base_uri": "https://localhost:8080/",
          "height": 809
        }
      },
      "source": [
        "plot_filme(filmes['filmeId'][(filmes['nota_media']>=3.2) & (filmes['nota_media']<=3.7)].head(3))"
      ],
      "execution_count": 20,
      "outputs": [
        {
          "output_type": "display_data",
          "data": {
            "image/png": "[encoded data removed]",
            "text/plain": [
              "<Figure size 1080x288 with 3 Axes>"
            ]
          },
          "metadata": {
            "tags": [],
            "needs_background": "light"
          }
        },
        {
          "output_type": "display_data",
          "data": {
            "image/png": "[encoded data removed]",
            "text/plain": [
              "<Figure size 1080x288 with 3 Axes>"
            ]
          },
          "metadata": {
            "tags": [],
            "needs_background": "light"
          }
        },
        {
          "output_type": "display_data",
          "data": {
            "image/png": "[encoded data removed]",
            "text/plain": [
              "<Figure size 1080x288 with 3 Axes>"
            ]
          },
          "metadata": {
            "tags": [],
            "needs_background": "light"
          }
        }
      ]
    },
    {
      "cell_type": "markdown",
      "metadata": {
        "id": "whBVzLdO73Ib",
        "colab_type": "text"
      },
      "source": [
        "## Análise dos filmes mais votados"
      ]
    },
    {
      "cell_type": "code",
      "metadata": {
        "id": "hfplC6vS_TzD",
        "colab_type": "code",
        "outputId": "9911ef02-89f1-486b-d396-01239b3dae0f",
        "colab": {
          "base_uri": "https://localhost:8080/",
          "height": 35
        }
      },
      "source": [
        "filmes.sort_values(by=['n_avaliacoes'],ascending=False)['filmeId'][0:10].to_list()"
      ],
      "execution_count": 21,
      "outputs": [
        {
          "output_type": "execute_result",
          "data": {
            "text/plain": [
              "[356, 318, 296, 593, 2571, 260, 480, 110, 589, 527]"
            ]
          },
          "metadata": {
            "tags": []
          },
          "execution_count": 21
        }
      ]
    },
    {
      "cell_type": "code",
      "metadata": {
        "id": "KAxjkELzKkJb",
        "colab_type": "code",
        "outputId": "142b112d-7967-48a1-9e1f-15effb4cd0bc",
        "colab": {
          "base_uri": "https://localhost:8080/",
          "height": 201
        }
      },
      "source": [
        "filmes.sort_values(by=['n_avaliacoes'],ascending=False)['titulo'][0:10].to_list()"
      ],
      "execution_count": 22,
      "outputs": [
        {
          "output_type": "execute_result",
          "data": {
            "text/plain": [
              "['Forrest Gump (1994)',\n",
              " 'Shawshank Redemption, The (1994)',\n",
              " 'Pulp Fiction (1994)',\n",
              " 'Silence of the Lambs, The (1991)',\n",
              " 'Matrix, The (1999)',\n",
              " 'Star Wars: Episode IV - A New Hope (1977)',\n",
              " 'Jurassic Park (1993)',\n",
              " 'Braveheart (1995)',\n",
              " 'Terminator 2: Judgment Day (1991)',\n",
              " \"Schindler's List (1993)\"]"
            ]
          },
          "metadata": {
            "tags": []
          },
          "execution_count": 22
        }
      ]
    },
    {
      "cell_type": "code",
      "metadata": {
        "id": "ct6s47KkEQtq",
        "colab_type": "code",
        "outputId": "63894a98-df45-4085-a192-4d950dd9c8af",
        "colab": {
          "base_uri": "https://localhost:8080/",
          "height": 206
        }
      },
      "source": [
        "avaliacoes[avaliacoes['filmeId'].isin(filmes.sort_values(by=['n_avaliacoes'],ascending=False)['filmeId'][0:10].to_list())].head()"
      ],
      "execution_count": 23,
      "outputs": [
        {
          "output_type": "execute_result",
          "data": {
            "text/html": [
              "<div>\n",
              "<style scoped>\n",
              "    .dataframe tbody tr th:only-of-type {\n",
              "        vertical-align: middle;\n",
              "    }\n",
              "\n",
              "    .dataframe tbody tr th {\n",
              "        vertical-align: top;\n",
              "    }\n",
              "\n",
              "    .dataframe thead th {\n",
              "        text-align: right;\n",
              "    }\n",
              "</style>\n",
              "<table border=\"1\" class=\"dataframe\">\n",
              "  <thead>\n",
              "    <tr style=\"text-align: right;\">\n",
              "      <th></th>\n",
              "      <th>usuarioId</th>\n",
              "      <th>filmeId</th>\n",
              "      <th>nota</th>\n",
              "      <th>momento</th>\n",
              "    </tr>\n",
              "  </thead>\n",
              "  <tbody>\n",
              "    <tr>\n",
              "      <th>7</th>\n",
              "      <td>1</td>\n",
              "      <td>110</td>\n",
              "      <td>4.0</td>\n",
              "      <td>964982176</td>\n",
              "    </tr>\n",
              "    <tr>\n",
              "      <th>15</th>\n",
              "      <td>1</td>\n",
              "      <td>260</td>\n",
              "      <td>5.0</td>\n",
              "      <td>964981680</td>\n",
              "    </tr>\n",
              "    <tr>\n",
              "      <th>16</th>\n",
              "      <td>1</td>\n",
              "      <td>296</td>\n",
              "      <td>3.0</td>\n",
              "      <td>964982967</td>\n",
              "    </tr>\n",
              "    <tr>\n",
              "      <th>20</th>\n",
              "      <td>1</td>\n",
              "      <td>356</td>\n",
              "      <td>4.0</td>\n",
              "      <td>964980962</td>\n",
              "    </tr>\n",
              "    <tr>\n",
              "      <th>26</th>\n",
              "      <td>1</td>\n",
              "      <td>480</td>\n",
              "      <td>4.0</td>\n",
              "      <td>964982346</td>\n",
              "    </tr>\n",
              "  </tbody>\n",
              "</table>\n",
              "</div>"
            ],
            "text/plain": [
              "    usuarioId  filmeId  nota    momento\n",
              "7           1      110   4.0  964982176\n",
              "15          1      260   5.0  964981680\n",
              "16          1      296   3.0  964982967\n",
              "20          1      356   4.0  964980962\n",
              "26          1      480   4.0  964982346"
            ]
          },
          "metadata": {
            "tags": []
          },
          "execution_count": 23
        }
      ]
    },
    {
      "cell_type": "code",
      "metadata": {
        "id": "MgEUbQjc64qD",
        "colab_type": "code",
        "outputId": "c5978f4f-cd08-461b-961b-45ebb849d2a1",
        "colab": {
          "base_uri": "https://localhost:8080/",
          "height": 459
        }
      },
      "source": [
        "plt.figure(figsize=(15,4))\n",
        "ax = sns.boxplot(data=avaliacoes[avaliacoes['filmeId'].isin(filmes.sort_values(by=['n_avaliacoes'],ascending=False)['filmeId'][0:10].to_list())],\n",
        "            x='filmeId', y='nota', width=0.3, palette='hls')\n",
        "\n",
        "plt.xticks(ax.get_xticks(),filmes.sort_values(by=['n_avaliacoes'],ascending=False)['titulo'][0:10].to_list(),rotation=60)\n",
        "plt.xlabel('Filme')\n",
        "plt.ylabel('Nota')\n",
        "plt.show()"
      ],
      "execution_count": 24,
      "outputs": [
        {
          "output_type": "display_data",
          "data": {
            "image/png": "[encoded data removed]",
            "text/plain": [
              "<Figure size 1080x288 with 1 Axes>"
            ]
          },
          "metadata": {
            "tags": [],
            "needs_background": "light"
          }
        }
      ]
    },
    {
      "cell_type": "markdown",
      "metadata": {
        "id": "3vECCo2OPjqr",
        "colab_type": "text"
      },
      "source": [
        "## Notas médias por ano de lançamento dos filmes"
      ]
    },
    {
      "cell_type": "code",
      "metadata": {
        "id": "o8zUKeOYPrFN",
        "colab_type": "code",
        "colab": {
          "base_uri": "https://localhost:8080/",
          "height": 164
        },
        "outputId": "afceccd8-5dc0-44c5-d026-6b951428209d"
      },
      "source": [
        "filmes['titulo'].str.extract('\\((\\d+)\\)').info()"
      ],
      "execution_count": 25,
      "outputs": [
        {
          "output_type": "stream",
          "text": [
            "<class 'pandas.core.frame.DataFrame'>\n",
            "RangeIndex: 9742 entries, 0 to 9741\n",
            "Data columns (total 1 columns):\n",
            " #   Column  Non-Null Count  Dtype \n",
            "---  ------  --------------  ----- \n",
            " 0   0       9729 non-null   object\n",
            "dtypes: object(1)\n",
            "memory usage: 76.2+ KB\n"
          ],
          "name": "stdout"
        }
      ]
    },
    {
      "cell_type": "code",
      "metadata": {
        "id": "8F0B1EqpSGFG",
        "colab_type": "code",
        "colab": {
          "base_uri": "https://localhost:8080/",
          "height": 206
        },
        "outputId": "f284935e-b994-4dc6-9474-15ba16f4f45d"
      },
      "source": [
        "filmes = filmes.join(filmes['titulo'].str.extract('\\((\\d+)\\)'))\n",
        "filmes.rename(columns={0: 'ano'}, inplace = True)\n",
        "filmes.head()"
      ],
      "execution_count": 26,
      "outputs": [
        {
          "output_type": "execute_result",
          "data": {
            "text/html": [
              "<div>\n",
              "<style scoped>\n",
              "    .dataframe tbody tr th:only-of-type {\n",
              "        vertical-align: middle;\n",
              "    }\n",
              "\n",
              "    .dataframe tbody tr th {\n",
              "        vertical-align: top;\n",
              "    }\n",
              "\n",
              "    .dataframe thead th {\n",
              "        text-align: right;\n",
              "    }\n",
              "</style>\n",
              "<table border=\"1\" class=\"dataframe\">\n",
              "  <thead>\n",
              "    <tr style=\"text-align: right;\">\n",
              "      <th></th>\n",
              "      <th>filmeId</th>\n",
              "      <th>titulo</th>\n",
              "      <th>generos</th>\n",
              "      <th>nota_media</th>\n",
              "      <th>n_avaliacoes</th>\n",
              "      <th>ano</th>\n",
              "    </tr>\n",
              "  </thead>\n",
              "  <tbody>\n",
              "    <tr>\n",
              "      <th>0</th>\n",
              "      <td>1</td>\n",
              "      <td>Toy Story (1995)</td>\n",
              "      <td>Adventure|Animation|Children|Comedy|Fantasy</td>\n",
              "      <td>3.92</td>\n",
              "      <td>215.0</td>\n",
              "      <td>1995</td>\n",
              "    </tr>\n",
              "    <tr>\n",
              "      <th>1</th>\n",
              "      <td>2</td>\n",
              "      <td>Jumanji (1995)</td>\n",
              "      <td>Adventure|Children|Fantasy</td>\n",
              "      <td>3.43</td>\n",
              "      <td>110.0</td>\n",
              "      <td>1995</td>\n",
              "    </tr>\n",
              "    <tr>\n",
              "      <th>2</th>\n",
              "      <td>3</td>\n",
              "      <td>Grumpier Old Men (1995)</td>\n",
              "      <td>Comedy|Romance</td>\n",
              "      <td>3.26</td>\n",
              "      <td>52.0</td>\n",
              "      <td>1995</td>\n",
              "    </tr>\n",
              "    <tr>\n",
              "      <th>3</th>\n",
              "      <td>4</td>\n",
              "      <td>Waiting to Exhale (1995)</td>\n",
              "      <td>Comedy|Drama|Romance</td>\n",
              "      <td>2.36</td>\n",
              "      <td>7.0</td>\n",
              "      <td>1995</td>\n",
              "    </tr>\n",
              "    <tr>\n",
              "      <th>4</th>\n",
              "      <td>5</td>\n",
              "      <td>Father of the Bride Part II (1995)</td>\n",
              "      <td>Comedy</td>\n",
              "      <td>3.07</td>\n",
              "      <td>49.0</td>\n",
              "      <td>1995</td>\n",
              "    </tr>\n",
              "  </tbody>\n",
              "</table>\n",
              "</div>"
            ],
            "text/plain": [
              "   filmeId                              titulo  ... n_avaliacoes   ano\n",
              "0        1                    Toy Story (1995)  ...        215.0  1995\n",
              "1        2                      Jumanji (1995)  ...        110.0  1995\n",
              "2        3             Grumpier Old Men (1995)  ...         52.0  1995\n",
              "3        4            Waiting to Exhale (1995)  ...          7.0  1995\n",
              "4        5  Father of the Bride Part II (1995)  ...         49.0  1995\n",
              "\n",
              "[5 rows x 6 columns]"
            ]
          },
          "metadata": {
            "tags": []
          },
          "execution_count": 26
        }
      ]
    },
    {
      "cell_type": "code",
      "metadata": {
        "id": "I6SFbSumUDLL",
        "colab_type": "code",
        "colab": {
          "base_uri": "https://localhost:8080/",
          "height": 256
        },
        "outputId": "ca5c15f4-a18a-4a12-deb7-2f7d486c94de"
      },
      "source": [
        "filmes['ano'] = filmes['ano'].astype('float').astype('Int64')\n",
        "filmes.info()"
      ],
      "execution_count": 27,
      "outputs": [
        {
          "output_type": "stream",
          "text": [
            "<class 'pandas.core.frame.DataFrame'>\n",
            "RangeIndex: 9742 entries, 0 to 9741\n",
            "Data columns (total 6 columns):\n",
            " #   Column        Non-Null Count  Dtype  \n",
            "---  ------        --------------  -----  \n",
            " 0   filmeId       9742 non-null   int64  \n",
            " 1   titulo        9742 non-null   object \n",
            " 2   generos       9742 non-null   object \n",
            " 3   nota_media    9724 non-null   float64\n",
            " 4   n_avaliacoes  9724 non-null   float64\n",
            " 5   ano           9729 non-null   Int64  \n",
            "dtypes: Int64(1), float64(2), int64(1), object(2)\n",
            "memory usage: 466.3+ KB\n"
          ],
          "name": "stdout"
        }
      ]
    },
    {
      "cell_type": "code",
      "metadata": {
        "id": "LxEPPPEBX9e6",
        "colab_type": "code",
        "colab": {}
      },
      "source": [
        "filmes['ano'].replace(500, np.nan, inplace=True)\n",
        "filmes['ano'].replace(6, np.nan, inplace=True)"
      ],
      "execution_count": 0,
      "outputs": []
    },
    {
      "cell_type": "code",
      "metadata": {
        "id": "L7hOql15Z31V",
        "colab_type": "code",
        "colab": {
          "base_uri": "https://localhost:8080/",
          "height": 304
        },
        "outputId": "147df59c-aa41-45c8-badf-0597ebd83165"
      },
      "source": [
        "plt.figure(figsize=(25,5))\n",
        "sns.barplot(x = filmes.groupby(['ano'])['nota_media'].mean().sort_values(ascending=False).index,\n",
        "            y = filmes.groupby(['ano'])['nota_media'].mean().sort_values(ascending=False).values,\n",
        "            palette=sns.color_palette(\"GnBu_d\", n_colors=len(filmes.groupby(['ano'])['nota_media'].mean().sort_values(ascending=False)) + 5))\n",
        "\n",
        "plt.xticks(rotation=60)\n",
        "plt.xlabel('Ano de lançamento')\n",
        "plt.ylabel('Nota média')\n",
        "plt.show()"
      ],
      "execution_count": 29,
      "outputs": [
        {
          "output_type": "display_data",
          "data": {
            "image/png": "[encoded data removed]",
            "text/plain": [
              "<Figure size 1800x360 with 1 Axes>"
            ]
          },
          "metadata": {
            "tags": [],
            "needs_background": "light"
          }
        }
      ]
    },
    {
      "cell_type": "markdown",
      "metadata": {
        "id": "SgTH7-oseatM",
        "colab_type": "text"
      },
      "source": [
        "## Moda, média e mediana\n",
        "\n",
        "Filmes com nota média entre 0 e 1."
      ]
    },
    {
      "cell_type": "code",
      "metadata": {
        "id": "VB_zZzqTdmsF",
        "colab_type": "code",
        "colab": {
          "base_uri": "https://localhost:8080/",
          "height": 90
        },
        "outputId": "90537a06-b55e-4225-90c7-439fd7849e4e"
      },
      "source": [
        "print('Média: '+ str(filmes[(filmes['nota_media'] >= 0) & (filmes['nota_media'] <= 1)]['nota_media'].mean()),\n",
        "      '\\nMediana: '+ str(filmes[(filmes['nota_media'] >= 0) & (filmes['nota_media'] <= 1)]['nota_media'].median()),\n",
        "      '\\nModa:  '+ str(filmes[(filmes['nota_media'] >= 0) & (filmes['nota_media'] <= 1)]['nota_media'].mode()))"
      ],
      "execution_count": 30,
      "outputs": [
        {
          "output_type": "stream",
          "text": [
            "Média: 0.8037596899224806 \n",
            "Mediana: 1.0 \n",
            "Moda:  0    1.0\n",
            "dtype: float64\n"
          ],
          "name": "stdout"
        }
      ]
    },
    {
      "cell_type": "markdown",
      "metadata": {
        "id": "T9-lQutCiL8y",
        "colab_type": "text"
      },
      "source": [
        "Filmes com nota média entre 2,5 e 3,5."
      ]
    },
    {
      "cell_type": "code",
      "metadata": {
        "id": "_a0eB5-MhHqw",
        "colab_type": "code",
        "colab": {
          "base_uri": "https://localhost:8080/",
          "height": 90
        },
        "outputId": "cd7c4f2c-5f8f-45d7-a579-e266f6e6069b"
      },
      "source": [
        "print('Média: '+ str(filmes[(filmes['nota_media'] >= 2.5) & (filmes['nota_media'] <= 3.5)]['nota_media'].mean()),\n",
        "      '\\nMediana: '+ str(filmes[(filmes['nota_media'] >= 2.5) & (filmes['nota_media'] <= 3.5)]['nota_media'].median()),\n",
        "      '\\nModa:  '+ str(filmes[(filmes['nota_media'] >= 2.5) & (filmes['nota_media'] <= 3.5)]['nota_media'].mode()))"
      ],
      "execution_count": 31,
      "outputs": [
        {
          "output_type": "stream",
          "text": [
            "Média: 3.0858861607142822 \n",
            "Mediana: 3.05 \n",
            "Moda:  0    3.0\n",
            "dtype: float64\n"
          ],
          "name": "stdout"
        }
      ]
    },
    {
      "cell_type": "markdown",
      "metadata": {
        "id": "6Zdo2HYmiQYF",
        "colab_type": "text"
      },
      "source": [
        "Filmes com nota média maior que 4,5."
      ]
    },
    {
      "cell_type": "code",
      "metadata": {
        "id": "4rGguGvSe5z5",
        "colab_type": "code",
        "colab": {
          "base_uri": "https://localhost:8080/",
          "height": 90
        },
        "outputId": "ba86632b-c754-44c2-82c6-762b70b7e9fa"
      },
      "source": [
        "print('Média: '+ str(filmes[(filmes['nota_media'] >= 4.5) & (filmes['nota_media'] <= 5)]['nota_media'].mean()),\n",
        "      '\\nMediana: '+ str(filmes[(filmes['nota_media'] >= 4.5) & (filmes['nota_media'] <= 5)]['nota_media'].median()),\n",
        "      '\\nModa:  '+ str(filmes[(filmes['nota_media'] >= 4.5) & (filmes['nota_media'] <= 5)]['nota_media'].mode()))"
      ],
      "execution_count": 32,
      "outputs": [
        {
          "output_type": "stream",
          "text": [
            "Média: 4.7202503477051465 \n",
            "Mediana: 4.5 \n",
            "Moda:  0    4.5\n",
            "dtype: float64\n"
          ],
          "name": "stdout"
        }
      ]
    }
  ]
}